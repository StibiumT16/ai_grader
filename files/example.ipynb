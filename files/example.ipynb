{
 "cells": [
  {
   "cell_type": "code",
   "execution_count": 1,
   "metadata": {
    "vscode": {
     "languageId": "shellscript"
    }
   },
   "outputs": [
    {
     "name": "stdout",
     "output_type": "stream",
     "text": [
      "Requirement already satisfied: backoff in /home/bjtuzky/.conda/envs/AIGC/lib/python3.8/site-packages (2.2.1)\n",
      "Note: you may need to restart the kernel to use updated packages.\n"
     ]
    }
   ],
   "source": [
    "pip install backoff"
   ]
  },
  {
   "cell_type": "code",
   "execution_count": 2,
   "metadata": {
    "vscode": {
     "languageId": "shellscript"
    }
   },
   "outputs": [
    {
     "name": "stdout",
     "output_type": "stream",
     "text": [
      "Requirement already satisfied: zhipuai in /home/bjtuzky/.conda/envs/AIGC/lib/python3.8/site-packages (2.1.5.20241204)\n",
      "Requirement already satisfied: cachetools>=4.2.2 in /home/bjtuzky/.conda/envs/AIGC/lib/python3.8/site-packages (from zhipuai) (5.5.0)\n",
      "Requirement already satisfied: httpx>=0.23.0 in /home/bjtuzky/.local/lib/python3.8/site-packages (from zhipuai) (0.27.2)\n",
      "Requirement already satisfied: pydantic<3.0,>=1.9.0 in /home/bjtuzky/.local/lib/python3.8/site-packages (from zhipuai) (2.9.2)\n",
      "Requirement already satisfied: pydantic-core>=2.14.6 in /home/bjtuzky/.local/lib/python3.8/site-packages (from zhipuai) (2.23.4)\n",
      "Requirement already satisfied: pyjwt<2.9.0,>=2.8.0 in /home/bjtuzky/.conda/envs/AIGC/lib/python3.8/site-packages (from zhipuai) (2.8.0)\n",
      "Requirement already satisfied: anyio in /home/bjtuzky/.conda/envs/AIGC/lib/python3.8/site-packages (from httpx>=0.23.0->zhipuai) (3.7.1)\n",
      "Requirement already satisfied: certifi in /home/bjtuzky/.conda/envs/AIGC/lib/python3.8/site-packages (from httpx>=0.23.0->zhipuai) (2024.8.30)\n",
      "Requirement already satisfied: httpcore==1.* in /home/bjtuzky/.local/lib/python3.8/site-packages (from httpx>=0.23.0->zhipuai) (1.0.6)\n",
      "Requirement already satisfied: idna in /home/bjtuzky/.local/lib/python3.8/site-packages (from httpx>=0.23.0->zhipuai) (3.4)\n",
      "Requirement already satisfied: sniffio in /home/bjtuzky/.local/lib/python3.8/site-packages (from httpx>=0.23.0->zhipuai) (1.3.1)\n",
      "Requirement already satisfied: h11<0.15,>=0.13 in /home/bjtuzky/.local/lib/python3.8/site-packages (from httpcore==1.*->httpx>=0.23.0->zhipuai) (0.14.0)\n",
      "Requirement already satisfied: annotated-types>=0.6.0 in /home/bjtuzky/.local/lib/python3.8/site-packages (from pydantic<3.0,>=1.9.0->zhipuai) (0.7.0)\n",
      "Requirement already satisfied: typing-extensions>=4.6.1 in /home/bjtuzky/.local/lib/python3.8/site-packages (from pydantic<3.0,>=1.9.0->zhipuai) (4.12.2)\n",
      "Requirement already satisfied: exceptiongroup in /home/bjtuzky/.local/lib/python3.8/site-packages (from anyio->httpx>=0.23.0->zhipuai) (1.2.2)\n",
      "Note: you may need to restart the kernel to use updated packages.\n"
     ]
    }
   ],
   "source": [
    "pip install zhipuai"
   ]
  },
  {
   "cell_type": "code",
   "execution_count": 3,
   "metadata": {
    "vscode": {
     "languageId": "shellscript"
    }
   },
   "outputs": [
    {
     "name": "stdout",
     "output_type": "stream",
     "text": [
      "Requirement already satisfied: openai in /home/bjtuzky/.local/lib/python3.8/site-packages (1.53.0)\n",
      "Requirement already satisfied: anyio<5,>=3.5.0 in /home/bjtuzky/.conda/envs/AIGC/lib/python3.8/site-packages (from openai) (3.7.1)\n",
      "Requirement already satisfied: distro<2,>=1.7.0 in /home/bjtuzky/.local/lib/python3.8/site-packages (from openai) (1.9.0)\n",
      "Requirement already satisfied: httpx<1,>=0.23.0 in /home/bjtuzky/.local/lib/python3.8/site-packages (from openai) (0.27.2)\n",
      "Requirement already satisfied: jiter<1,>=0.4.0 in /home/bjtuzky/.local/lib/python3.8/site-packages (from openai) (0.7.0)\n",
      "Requirement already satisfied: pydantic<3,>=1.9.0 in /home/bjtuzky/.local/lib/python3.8/site-packages (from openai) (2.9.2)\n",
      "Requirement already satisfied: sniffio in /home/bjtuzky/.local/lib/python3.8/site-packages (from openai) (1.3.1)\n",
      "Requirement already satisfied: tqdm>4 in /home/bjtuzky/.conda/envs/AIGC/lib/python3.8/site-packages (from openai) (4.66.4)\n",
      "Requirement already satisfied: typing-extensions<5,>=4.11 in /home/bjtuzky/.local/lib/python3.8/site-packages (from openai) (4.12.2)\n",
      "Requirement already satisfied: idna>=2.8 in /home/bjtuzky/.local/lib/python3.8/site-packages (from anyio<5,>=3.5.0->openai) (3.4)\n",
      "Requirement already satisfied: exceptiongroup in /home/bjtuzky/.local/lib/python3.8/site-packages (from anyio<5,>=3.5.0->openai) (1.2.2)\n",
      "Requirement already satisfied: certifi in /home/bjtuzky/.conda/envs/AIGC/lib/python3.8/site-packages (from httpx<1,>=0.23.0->openai) (2024.8.30)\n",
      "Requirement already satisfied: httpcore==1.* in /home/bjtuzky/.local/lib/python3.8/site-packages (from httpx<1,>=0.23.0->openai) (1.0.6)\n",
      "Requirement already satisfied: h11<0.15,>=0.13 in /home/bjtuzky/.local/lib/python3.8/site-packages (from httpcore==1.*->httpx<1,>=0.23.0->openai) (0.14.0)\n",
      "Requirement already satisfied: annotated-types>=0.6.0 in /home/bjtuzky/.local/lib/python3.8/site-packages (from pydantic<3,>=1.9.0->openai) (0.7.0)\n",
      "Requirement already satisfied: pydantic-core==2.23.4 in /home/bjtuzky/.local/lib/python3.8/site-packages (from pydantic<3,>=1.9.0->openai) (2.23.4)\n",
      "Note: you may need to restart the kernel to use updated packages.\n"
     ]
    }
   ],
   "source": [
    "pip install openai"
   ]
  },
  {
   "cell_type": "code",
   "execution_count": 4,
   "metadata": {},
   "outputs": [
    {
     "name": "stderr",
     "output_type": "stream",
     "text": [
      "/home/bjtuzky/.conda/envs/AIGC/lib/python3.8/site-packages/tqdm/auto.py:21: TqdmWarning: IProgress not found. Please update jupyter and ipywidgets. See https://ipywidgets.readthedocs.io/en/stable/user_install.html\n",
      "  from .autonotebook import tqdm as notebook_tqdm\n"
     ]
    },
    {
     "name": "stdout",
     "output_type": "stream",
     "text": [
      "冬至时节，可以吃的食物有很多，其中包括：\n",
      "\n",
      "1. 饺子：在我国北方许多地区，每年冬至都有吃饺子的习俗。饺子有团圆、喜庆的氛围，同时也有御寒的作用。\n",
      "2. 汤圆：在南方地区，冬至吃汤圆是一种传统习俗。汤圆寓意团团圆圆，家家户户都会在这一天煮上一些汤圆来庆祝冬至的到来。\n",
      "3. 羊肉：冬至吃羊肉可以驱寒保暖，增强身体免疫力。尤其是南方地区，冬至吃羊肉汤已经成为了一种传统习俗。\n",
      "4. 八宝粥：在寒冷的冬天喝上一碗热腾腾的八宝粥，既能驱寒保暖，又能滋补身体。八宝粥中的红枣、花生等食材都具有滋补作用。\n",
      "5. 糯米饭团：在江南地区，冬至吃糯米饭团是一种传统习俗。糯米饭团口感软糯香甜，寓意团圆和幸福。此外还有一些地域特色的食物比如吃白萝豆腐卜和肉糕等也是冬至节的特色美食。除了以上列举的食物外，冬至还可以吃一些其他的肉类如牛肉、鸡肉等以及富含蛋白质的食物来增强身体免疫力。总之，冬至的饮食应以温热为主，避免寒凉食物对身体健康的影响。同时也要注意均衡饮食，合理搭配各种食材以保证营养的均衡摄入。\n"
     ]
    }
   ],
   "source": [
    "from LLM.apillm import APILLM\n",
    "\n",
    "# models: ['wenxin', 'chatglm-4-air', 'claude-3-sonnet', 'gpt-3.5-turbo', 'gpt-4o-mini', 'gpt-4']\n",
    "\n",
    "llm=APILLM(model='wenxin')\n",
    "response=llm.generate(\"你是一个AI助手\",\"冬至应该吃什么\")\n",
    "print(response)"
   ]
  },
  {
   "cell_type": "code",
   "execution_count": 5,
   "metadata": {},
   "outputs": [
    {
     "data": {
      "text/plain": [
       "{2: 5}"
      ]
     },
     "execution_count": 5,
     "metadata": {},
     "output_type": "execute_result"
    }
   ],
   "source": [
    "dict={2:5}\n",
    "dict"
   ]
  },
  {
   "cell_type": "code",
   "execution_count": 6,
   "metadata": {},
   "outputs": [
    {
     "data": {
      "text/plain": [
       "'{2: 5}'"
      ]
     },
     "execution_count": 6,
     "metadata": {},
     "output_type": "execute_result"
    }
   ],
   "source": [
    "str(dict)"
   ]
  },
  {
   "cell_type": "code",
   "execution_count": 8,
   "metadata": {},
   "outputs": [],
   "source": [
    "import json\n",
    "\n",
    "# 假设这是你的列表\n",
    "lst = [1, [2, 3, 4, 5]]\n",
    "\n",
    "# 保存为JSON文件\n",
    "with open('list.json', 'w') as file:\n",
    "    json.dump(lst, file)\n"
   ]
  },
  {
   "cell_type": "code",
   "execution_count": 10,
   "metadata": {},
   "outputs": [
    {
     "data": {
      "text/plain": [
       "{'dg': 5}"
      ]
     },
     "execution_count": 10,
     "metadata": {},
     "output_type": "execute_result"
    }
   ],
   "source": [
    "dict={'dg':3}\n",
    "if 'd' not in dict:\n",
    "    dict.update({'dg':5})\n",
    "dict"
   ]
  }
 ],
 "metadata": {
  "kernelspec": {
   "display_name": "AIGC",
   "language": "python",
   "name": "python3"
  },
  "language_info": {
   "codemirror_mode": {
    "name": "ipython",
    "version": 3
   },
   "file_extension": ".py",
   "mimetype": "text/x-python",
   "name": "python",
   "nbconvert_exporter": "python",
   "pygments_lexer": "ipython3",
   "version": "3.8.19"
  }
 },
 "nbformat": 4,
 "nbformat_minor": 2
}
